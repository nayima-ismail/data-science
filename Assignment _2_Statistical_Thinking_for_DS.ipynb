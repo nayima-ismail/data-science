{
 "cells": [
  {
   "cell_type": "markdown",
   "id": "664621c1",
   "metadata": {},
   "source": [
    "Assignment 2 – Basic Statistics in Python\n",
    "\n",
    "Age groups: 1 (<30 years), 2 (30-50 years), 3 (>50 years).\n",
    "\n",
    "Gender: M=Male, F=Female,\n",
    "\n",
    "BMI=Body mass index,\n",
    "\n",
    "DBP=Diastolic blood pressure,\n",
    "\n",
    "B/L=Baseline, min=Minute\n",
    "\n",
    "a. Represent the above data in a Pandas data frame with 20 observations and 6 attributes\n",
    "\n",
    "b. Identify the data in terms of categorical, numeric etc.\n",
    "\n",
    "c. Write descriptive statistics for the numeric data\n",
    "\n",
    "d. Analyse and represent the categorical variables in terms of percentage through a pie chart\n",
    "\n",
    "e. Analyse if there are outliers for any of the attributes\n"
   ]
  },
  {
   "cell_type": "code",
   "execution_count": 15,
   "id": "9b072181",
   "metadata": {},
   "outputs": [],
   "source": [
    "import pandas as pd\n",
    "\n",
    "#a\n",
    "patientdata = pd.DataFrame({\n",
    "    'Gender':         pd.Categorical(['M','M','M','M','M','M','M','M','M','M','F','F','F','F','F','F','F','F','F','F'], categories=['M,F'], ordered=False),\n",
    "    'Age groups':      pd.Categorical([1,2,3,1,1,3,3,2,1,3,3,2,2,2,3,1,1,3,3,2], categories=[1,2,3], ordered=True),\n",
    "    'BMI':            [23,25,26,24,23,27,27,24,21,28,26,26,23,24,25,22,19,25,26,25],\n",
    "    'DBP (B/L)':      [68,80,85,75,77,82,80,82,80,74,75,86,85,87,83,79,73,77,82,81],\n",
    "    'DBP (at 60 min)':[70,78,85,75,72,72,75,85,80,75,85,80,82,82,85,74,87,86,85,72],\n",
    "    'DBP (at 30 min)':[75,79,90,80,81,89,92,90,80,80,89,88,87,91,88,78,74,84,83,80],\n",
    "})\n"
   ]
  },
  {
   "cell_type": "markdown",
   "id": "9c39132d",
   "metadata": {},
   "source": [
    "#b \n",
    "Gender and Age groups are categorical data"
   ]
  },
  {
   "cell_type": "code",
   "execution_count": 16,
   "id": "659bdfa9",
   "metadata": {},
   "outputs": [
    {
     "data": {
      "text/html": [
       "<div>\n",
       "<style scoped>\n",
       "    .dataframe tbody tr th:only-of-type {\n",
       "        vertical-align: middle;\n",
       "    }\n",
       "\n",
       "    .dataframe tbody tr th {\n",
       "        vertical-align: top;\n",
       "    }\n",
       "\n",
       "    .dataframe thead th {\n",
       "        text-align: right;\n",
       "    }\n",
       "</style>\n",
       "<table border=\"1\" class=\"dataframe\">\n",
       "  <thead>\n",
       "    <tr style=\"text-align: right;\">\n",
       "      <th></th>\n",
       "      <th>BMI</th>\n",
       "      <th>DBP (B/L)</th>\n",
       "      <th>DBP (at 60 min)</th>\n",
       "      <th>DBP (at 30 min)</th>\n",
       "    </tr>\n",
       "  </thead>\n",
       "  <tbody>\n",
       "    <tr>\n",
       "      <th>count</th>\n",
       "      <td>20.000000</td>\n",
       "      <td>20.000000</td>\n",
       "      <td>20.00000</td>\n",
       "      <td>20.000000</td>\n",
       "    </tr>\n",
       "    <tr>\n",
       "      <th>mean</th>\n",
       "      <td>24.450000</td>\n",
       "      <td>79.550000</td>\n",
       "      <td>79.25000</td>\n",
       "      <td>83.900000</td>\n",
       "    </tr>\n",
       "    <tr>\n",
       "      <th>std</th>\n",
       "      <td>2.187885</td>\n",
       "      <td>4.871777</td>\n",
       "      <td>5.68354</td>\n",
       "      <td>5.580983</td>\n",
       "    </tr>\n",
       "    <tr>\n",
       "      <th>min</th>\n",
       "      <td>19.000000</td>\n",
       "      <td>68.000000</td>\n",
       "      <td>70.00000</td>\n",
       "      <td>74.000000</td>\n",
       "    </tr>\n",
       "    <tr>\n",
       "      <th>25%</th>\n",
       "      <td>23.000000</td>\n",
       "      <td>76.500000</td>\n",
       "      <td>74.75000</td>\n",
       "      <td>80.000000</td>\n",
       "    </tr>\n",
       "    <tr>\n",
       "      <th>50%</th>\n",
       "      <td>25.000000</td>\n",
       "      <td>80.000000</td>\n",
       "      <td>80.00000</td>\n",
       "      <td>83.500000</td>\n",
       "    </tr>\n",
       "    <tr>\n",
       "      <th>75%</th>\n",
       "      <td>26.000000</td>\n",
       "      <td>82.250000</td>\n",
       "      <td>85.00000</td>\n",
       "      <td>89.000000</td>\n",
       "    </tr>\n",
       "    <tr>\n",
       "      <th>max</th>\n",
       "      <td>28.000000</td>\n",
       "      <td>87.000000</td>\n",
       "      <td>87.00000</td>\n",
       "      <td>92.000000</td>\n",
       "    </tr>\n",
       "  </tbody>\n",
       "</table>\n",
       "</div>"
      ],
      "text/plain": [
       "             BMI  DBP (B/L)  DBP (at 60 min)  DBP (at 30 min)\n",
       "count  20.000000  20.000000         20.00000        20.000000\n",
       "mean   24.450000  79.550000         79.25000        83.900000\n",
       "std     2.187885   4.871777          5.68354         5.580983\n",
       "min    19.000000  68.000000         70.00000        74.000000\n",
       "25%    23.000000  76.500000         74.75000        80.000000\n",
       "50%    25.000000  80.000000         80.00000        83.500000\n",
       "75%    26.000000  82.250000         85.00000        89.000000\n",
       "max    28.000000  87.000000         87.00000        92.000000"
      ]
     },
     "execution_count": 16,
     "metadata": {},
     "output_type": "execute_result"
    }
   ],
   "source": [
    "#c descriptive statistics for the numeric data\n",
    "patientdata.describe()"
   ]
  },
  {
   "cell_type": "code",
   "execution_count": 17,
   "id": "73e96c91",
   "metadata": {},
   "outputs": [
    {
     "name": "stderr",
     "output_type": "stream",
     "text": [
      "C:\\Users\\nismai01\\Anaconda3\\lib\\site-packages\\pandas\\plotting\\_matplotlib\\core.py:1583: MatplotlibDeprecationWarning: normalize=None does not normalize if the sum is less than 1 but this behavior is deprecated since 3.3 until two minor releases later. After the deprecation period the default value will be normalize=True. To prevent normalization pass normalize=False \n",
      "  results = ax.pie(y, labels=blabels, **kwds)\n"
     ]
    },
    {
     "data": {
      "text/plain": [
       "<AxesSubplot:ylabel='None'>"
      ]
     },
     "execution_count": 17,
     "metadata": {},
     "output_type": "execute_result"
    },
    {
     "data": {
      "image/png": "[encoded data removed]",
      "text/plain": [
       "<Figure size 432x288 with 1 Axes>"
      ]
     },
     "metadata": {},
     "output_type": "display_data"
    }
   ],
   "source": [
    "#d\n",
    "import matplotlib.pyplot as plt\n",
    "patientdata.groupby('Gender').size().plot(kind='pie',labels=['Gender'], autopct='%.2f')"
   ]
  },
  {
   "cell_type": "code",
   "execution_count": 13,
   "id": "87eb4421",
   "metadata": {},
   "outputs": [
    {
     "data": {
      "text/plain": [
       "<AxesSubplot:ylabel='None'>"
      ]
     },
     "execution_count": 13,
     "metadata": {},
     "output_type": "execute_result"
    },
    {
     "data": {
      "image/png": "[encoded data removed]",
      "text/plain": [
       "<Figure size 432x288 with 1 Axes>"
      ]
     },
     "metadata": {},
     "output_type": "display_data"
    }
   ],
   "source": [
    "patientdata.groupby('Age groups').size().plot(kind='pie', autopct='%.2f')"
   ]
  },
  {
   "cell_type": "code",
   "execution_count": 31,
   "id": "10c5a2bb",
   "metadata": {},
   "outputs": [
    {
     "name": "stdout",
     "output_type": "stream",
     "text": [
      "[0.67995731 0.25791484 0.72685092 0.21102123 0.67995731 1.195787\n",
      " 1.195787   0.21102123 1.61782947 1.66472307 0.72685092 0.72685092\n",
      " 0.67995731 0.21102123 0.25791484 1.14889339 2.55570162 0.25791484\n",
      " 0.72685092 0.25791484]\n",
      "[2.43238763 0.09476835 1.14775001 0.95821331 0.53702065 0.51596101\n",
      " 0.09476835 0.51596101 0.09476835 1.16880964 0.95821331 1.35834634\n",
      " 1.14775001 1.56894267 0.72655734 0.11582798 1.37940597 0.53702065\n",
      " 0.51596101 0.30536468]\n",
      "[1.66978662 0.22564684 1.03797547 0.76719926 1.30875168 1.30875168\n",
      " 0.76719926 1.03797547 0.1353881  0.76719926 1.03797547 0.1353881\n",
      " 0.49642305 0.49642305 1.03797547 0.94771673 1.39901042 1.21849294\n",
      " 1.03797547 1.30875168]\n",
      "[1.63612893 0.90079009 1.12139174 0.71695537 0.53312066 0.93755703\n",
      " 1.48906116 1.12139174 0.71695537 0.71695537 0.93755703 0.75372232\n",
      " 0.56988761 1.30522645 0.75372232 1.0846248  1.81996364 0.01838347\n",
      " 0.16545124 0.71695537]\n"
     ]
    },
    {
     "data": {
      "image/png": "[encoded data removed]",
      "text/plain": [
       "<Figure size 432x288 with 1 Axes>"
      ]
     },
     "metadata": {
      "needs_background": "light"
     },
     "output_type": "display_data"
    }
   ],
   "source": [
    "#e Box plot can be used to detect outliers\n",
    "\n",
    "import seaborn as sns\n",
    "from scipy import stats\n",
    "import numpy as np\n",
    "\n",
    "sns.boxplot(data=patientdata['BMI'])\n",
    "\n",
    "z_bmi = np.abs(stats.zscore(patientdata['BMI']))\n",
    "\n",
    "z_dbpbl = np.abs(stats.zscore(patientdata['DBP (B/L)']))\n",
    "\n",
    "z_dbp60 = np.abs(stats.zscore(patientdata['DBP (at 60 min)']))\n",
    "\n",
    "z_dbp30 = np.abs(stats.zscore(patientdata['DBP (at 30 min)']))\n",
    "\n",
    "print(z_bmi)\n",
    "print(z_dbpbl)\n",
    "print(z_dbp60)\n",
    "print(z_dbp30)\n",
    "\n",
    "#estimatting threshold value to be 3.0\n",
    "\n",
    "# There are no outlier in the dataset"
   ]
  },
  {
   "cell_type": "code",
   "execution_count": null,
   "id": "ac214684",
   "metadata": {},
   "outputs": [],
   "source": [
    "2. Using ANOVA, identify if there is any significant difference between the mean strength of the three groups.\n",
    "We compare the p value with the level of significance (α, generally\n",
    "taken as 0.05*)\n",
    "If (p value < α)\n",
    "reject the null hypothesis\n",
    "If (p value > α)\n",
    "fail to reject the null hypothesis (or we do not have enough\n",
    "evidence to reject the null hypothesis)"
   ]
  },
  {
   "cell_type": "code",
   "execution_count": 3,
   "id": "02c9e535",
   "metadata": {},
   "outputs": [
    {
     "name": "stdout",
     "output_type": "stream",
     "text": [
      "F_onewayResult(statistic=4.941230994131398, pvalue=0.011825050132581737)\n"
     ]
    }
   ],
   "source": [
    "from scipy.stats import f_oneway\n",
    "\n",
    "Resin_a = [19.7, 20.1,21.3,23.5,9.3,27.1,11.6,12.2,15.9,17.0,17.2,18.4,19.4,23.4,2.0]\n",
    "Resin_b = [23.0, 24.5,24.6,27.1,12.0,27.8,12.8,16.2,19.8,22.4,23.6,25.3,27.9,4.6,35.2]\n",
    "Resin_c = [21.6,25.5,25.9,30.7,3.0,16.5,22.7,24.2,26.2,28.4,28.5,30.7,32.2,33.8,34.5]\n",
    "\n",
    "print(f_oneway(Resin_a,Resin_b,Resin_c))"
   ]
  },
  {
   "cell_type": "markdown",
   "id": "a1d8aeb0",
   "metadata": {},
   "source": [
    "H0: There is significant difference between mean strength of the mean strength of the resign groups\n",
    "We assume the level of significance to be 0.05\n",
    "Here p value is 0.01<0.05, this states that there is only 10% chnage for the H0 to be true hence we reject the hypothesis.\n",
    "statistic value denotes F-statistics "
   ]
  }
 ],
 "metadata": {
  "kernelspec": {
   "display_name": "Python 3",
   "language": "python",
   "name": "python3"
  },
  "language_info": {
   "codemirror_mode": {
    "name": "ipython",
    "version": 3
   },
   "file_extension": ".py",
   "mimetype": "text/x-python",
   "name": "python",
   "nbconvert_exporter": "python",
   "pygments_lexer": "ipython3",
   "version": "3.8.8"
  }
 },
 "nbformat": 4,
 "nbformat_minor": 5
}
