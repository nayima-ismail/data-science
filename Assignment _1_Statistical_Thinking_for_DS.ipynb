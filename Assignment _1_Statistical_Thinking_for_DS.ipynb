{
 "cells": [
  {
   "cell_type": "markdown",
   "id": "acb16b07",
   "metadata": {},
   "source": [
    "Assignment 1 – Basic Statistics in Python\n",
    "\n",
    "NOTE:\n",
    "\n",
    "a. Solve all the questions in a Jupyter Notebook\n",
    "\n",
    "b. The answers should be properly annotated\n",
    "\n",
    " \n",
    "\n",
    "1. The following is the frequency distribution of the number of telephone calls received in 245 successive one minute intervals at an exchange:\n",
    "\n",
    "|Number of Calls|Frequency|\n",
    "|--|--|\n",
    "|0|14 |\n",
    "|1|21 | \n",
    "|2|25 | \n",
    "|3|43 |\n",
    "|4|51 |\n",
    "|5|40|\n",
    "|6|39|\n",
    "|7|12|\n",
    "\n",
    "    A.    Write a Python program without using the built-in functions for the following: \n",
    "\n",
    "        a. Mean\n",
    "        b. Median\n",
    "        c. Mode\n",
    "        d. Range\n",
    "        e. Standard deviation\n",
    "        f. Variance\n",
    "    \n",
    "    B. Using Matplotlib, describe the above visually using a suitable graph/plot \n"
   ]
  },
  {
   "cell_type": "code",
   "execution_count": 5,
   "id": "d05af4a0",
   "metadata": {
    "scrolled": true
   },
   "outputs": [
    {
     "name": "stdout",
     "output_type": "stream",
     "text": [
      "\n",
      "Mean \n",
      " Number of Calls     3.500\n",
      "Frequency          30.625\n",
      "dtype: float64\n",
      "\n",
      "Median\n",
      " Number of Calls     3.5\n",
      "Frequency          32.0\n",
      "dtype: float64\n",
      "\n",
      "Mode\n",
      "    Number of Calls  Frequency\n",
      "0                0         12\n",
      "1                1         14\n",
      "2                2         21\n",
      "3                3         25\n",
      "4                4         39\n",
      "5                5         40\n",
      "6                6         43\n",
      "7                7         51\n",
      "\n",
      "Range\n",
      " Number of Calls     7\n",
      "Frequency          39\n",
      "dtype: int64\n",
      "\n",
      "Standard Deviation Number of Calls     2.449490\n",
      "Frequency          14.510464\n",
      "dtype: float64\n",
      "\n",
      "Variance Number of Calls      6.000000\n",
      "Frequency          210.553571\n",
      "dtype: float64\n"
     ]
    }
   ],
   "source": [
    "import pandas as pd\n",
    "\n",
    "callDataFrame = pd.DataFrame({'Number of Calls':[0,1,2,3,4,5,6,7],'Frequency':[14,21,25,43,51,40,39,12]})\n",
    "print(\"\\nMean \\n\", callDataFrame.mean())\n",
    "print(\"\\nMedian\\n\", callDataFrame.median())\n",
    "print(\"\\nMode\\n\", callDataFrame.mode())\n",
    "print(\"\\nRange\\n\", callDataFrame.max()-callDataFrame.min())\n",
    "print(\"\\nStandard Deviation\", callDataFrame.std())\n",
    "print(\"\\nVariance\", callDataFrame.var())"
   ]
  },
  {
   "cell_type": "code",
   "execution_count": 4,
   "id": "4bb64219",
   "metadata": {},
   "outputs": [
    {
     "data": {
      "image/png": "[encoded data removed]",
      "text/plain": [
       "<Figure size 432x288 with 1 Axes>"
      ]
     },
     "metadata": {
      "needs_background": "light"
     },
     "output_type": "display_data"
    }
   ],
   "source": [
    "import matplotlib.pyplot as plt\n",
    "plt.title(\"Frequency distribution of number of Calls\")\n",
    "plt.bar(callDataFrame['Number of Calls'],callDataFrame['Frequency'], color='g')\n",
    "plt.show()"
   ]
  },
  {
   "cell_type": "code",
   "execution_count": null,
   "id": "358d29b8",
   "metadata": {},
   "outputs": [],
   "source": [
    "2. The following data gives the distribution of the marks of 100 students.\n",
    "\n",
    "Marks\n",
    "\n",
    "Frequency (f)\n",
    "\n",
    "Less than 10\n",
    "\n",
    "5\n",
    "\n",
    "Less than 20\n",
    "\n",
    "13\n",
    "\n",
    "Less than 30\n",
    "\n",
    "20\n",
    "\n",
    "Less than 40\n",
    "\n",
    "32\n",
    "\n",
    "Less than 50\n",
    "\n",
    "60\n",
    "\n",
    "Less than 60\n",
    "\n",
    "80\n",
    "\n",
    "Less than 70\n",
    "\n",
    "90\n",
    "\n",
    "Less than 80\n",
    "\n",
    "100\n",
    "\n",
    "A.    Write a Python program to calculate the range and quartile of the above data\n",
    "\n",
    "B.     Determine the coefficient of range for the above data\n",
    "\n",
    "C.     Determine skewness and kurtosis for the above data\n",
    "\n",
    "D.    Represent the above data with the help of a suitable plot using Matplotlib\n"
   ]
  },
  {
   "cell_type": "markdown",
   "id": "7e824284",
   "metadata": {},
   "source": [
    "3. Write a Python program to calculate Karl Pearson’s coefficient of skewness from the following data.\n",
    "\n",
    "|Marks       |       1   |       2   |       3   |       4    |      5        |  6      |    7  |\n",
    "\n",
    "|No. of students |  10  |     18   |     30     |   25   |     12    |    3    |      2|\n"
   ]
  },
  {
   "cell_type": "code",
   "execution_count": null,
   "id": "be8694ed",
   "metadata": {},
   "outputs": [],
   "source": []
  },
  {
   "cell_type": "markdown",
   "id": "9e56c577",
   "metadata": {},
   "source": [
    "4. First four moments about mean of a distribution are 0, 2.5, 0.7 and 18.75. Write a Python program for finding the coefficient of skewness and kurtosis. \n",
    "\n",
    "    Ans: Moments are a set of statistical parameters to measure a distribution. Four moments are commonly used: \n",
    "    \n",
    "        • 1st moment - Mean (describes central value)\n",
    "        • 2nd moment - Variance (describes dispersion)\n",
    "        • 3rd moment - Skewness (describes asymmetry)\n",
    "        • 4th moment - Kurtosis (describes peakedness)\n",
    "        \n",
    "        Coefficient of Skewness = 𝑀𝑒𝑎𝑛−𝑀𝑜𝑑𝑒 / 𝑆𝑡𝑎𝑛𝑑𝑎𝑟𝑑 𝐷𝑒𝑣𝑖𝑎𝑡𝑖𝑜𝑛 or 3(𝑀𝑒𝑎𝑛−𝑀𝑒𝑑𝑖𝑎𝑛)/𝑆𝑡𝑎𝑛𝑑𝑎𝑟𝑑 𝐷𝑒𝑣𝑖𝑎𝑡𝑖𝑜n"
   ]
  }
 ],
 "metadata": {
  "kernelspec": {
   "display_name": "Python 3",
   "language": "python",
   "name": "python3"
  },
  "language_info": {
   "codemirror_mode": {
    "name": "ipython",
    "version": 3
   },
   "file_extension": ".py",
   "mimetype": "text/x-python",
   "name": "python",
   "nbconvert_exporter": "python",
   "pygments_lexer": "ipython3",
   "version": "3.8.8"
  }
 },
 "nbformat": 4,
 "nbformat_minor": 5
}
