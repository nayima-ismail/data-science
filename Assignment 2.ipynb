{
 "cells": [
  {
   "cell_type": "markdown",
   "id": "cea38d35",
   "metadata": {},
   "source": [
    "**Que. 1 Write a program that defines two functions called disp_1() and disp_2(). Both receive following given list:**  \n",
    "Name = [‘Rahul’, ‘Ankit’,’Vijay’]  \n",
    "Enroll_No. = [10,20,30]  \n",
    "Subject = [‘Maths’, ‘Computer’, ‘Science’]  \n",
    "  \n",
    "Both function should form sentence by picking elements from these lists and return them.  \n",
    "Use for loops in dosp_1() and list comprehension in disp_2().  \n",
    "  \n",
    "**Output Example**: Rahul has enrolment No. 10 and he studies Maths.  "
   ]
  },
  {
   "cell_type": "code",
   "execution_count": 125,
   "id": "d2e58af0",
   "metadata": {},
   "outputs": [
    {
     "name": "stdout",
     "output_type": "stream",
     "text": [
      "For loop\n",
      "Rahul  has enrolment No. 10 and he studies  Maths\n",
      "Ankit  has enrolment No. 20 and he studies  Computer\n",
      "Vijay  has enrolment No. 30 and he studies  Science\n",
      "\n",
      "List Comprehension \n",
      "\n",
      "['Rahulhas enrolment No.10and he studies Maths', 'Ankithas enrolment No.20and he studies Computer', 'Vijayhas enrolment No.30and he studies Science']\n"
     ]
    },
    {
     "data": {
      "text/plain": [
       "0"
      ]
     },
     "execution_count": 125,
     "metadata": {},
     "output_type": "execute_result"
    }
   ],
   "source": [
    "Name = ['Rahul', 'Ankit','Vijay']  \n",
    "Enroll_No = [10,20,30]  \n",
    "Subject = ['Maths', 'Computer', 'Science']  \n",
    "\n",
    "def  disp_1():\n",
    "    for (name, roll, subject) in zip(Name, Enroll_No, Subject):\n",
    "        print(name,' has enrolment No.',roll,'and he studies ',subject)\n",
    "    return(0)\n",
    "def disp_2():\n",
    "    new_list = [x+'has enrolment No.'+str(y)+'and he studies '+z for x,y,z in zip(Name,Enroll_No, Subject)]\n",
    "    print(new_list)\n",
    "    return(0)\n",
    "\n",
    "print(\"For loop\\n\")\n",
    "disp_1()\n",
    "print(\"\\nList Comprehension \\n\")\n",
    "disp_2()\n"
   ]
  },
  {
   "cell_type": "markdown",
   "id": "42ae45ed",
   "metadata": {},
   "source": [
    "**Que. 2 Write a recursive function to obtain the binary equivalent of the user entered number.**  "
   ]
  },
  {
   "cell_type": "code",
   "execution_count": 10,
   "id": "36b81ee8",
   "metadata": {},
   "outputs": [
    {
     "name": "stdout",
     "output_type": "stream",
     "text": [
      "01010"
     ]
    }
   ],
   "source": [
    "def DecimalToBinary(num):\n",
    "    if num >= 1:\n",
    "        DecimalToBinary(num // 2)\n",
    "    print(num % 2, end = '')\n",
    "    \n",
    "DecimalToBinary(10)"
   ]
  },
  {
   "cell_type": "markdown",
   "id": "2d08f85d",
   "metadata": {},
   "source": [
    "**Que. 3 Write python code to calculate the covariance of an array.** \n",
    "\n",
    "Covariance provides the a measure of strength of correlation between two variable or more set of variables. "
   ]
  },
  {
   "cell_type": "code",
   "execution_count": 128,
   "id": "ffb6645d",
   "metadata": {},
   "outputs": [
    {
     "name": "stdout",
     "output_type": "stream",
     "text": [
      "Covarinace matrix x:\n",
      " [[ 0.33333333  0.5        -1.16666667]\n",
      " [ 0.5        13.         -7.        ]\n",
      " [-1.16666667 -7.          6.33333333]]\n"
     ]
    }
   ],
   "source": [
    "import numpy as np\n",
    "x = np.array([[7, 7, 6], [9, 2, 4], [0, 3, 5]])\n",
    "\n",
    "print(\"Covarinace matrix x:\\n\", np.cov(x))"
   ]
  },
  {
   "cell_type": "markdown",
   "id": "3e9f0047",
   "metadata": {},
   "source": [
    "**Que. 4 Write the pandas statement for the following:**  \n",
    "\n",
    "    a. Declare a panda series named as Price and data as [120,150,100,130,125].  \n",
    "    b. Evaluate the minimum, maximum and mean and median from the created series.  "
   ]
  },
  {
   "cell_type": "code",
   "execution_count": 29,
   "id": "e88941a7",
   "metadata": {},
   "outputs": [
    {
     "name": "stdout",
     "output_type": "stream",
     "text": [
      "The series: \n",
      " 0    120\n",
      "1    150\n",
      "2    100\n",
      "3    130\n",
      "4    125\n",
      "dtype: int64\n",
      "Minimum value of series is  100\n",
      "Maximum value of series is  150\n",
      "Mean value of series is  125.0\n",
      "Median value of series is  125.0\n"
     ]
    }
   ],
   "source": [
    "import pandas as pd\n",
    "\n",
    "#a Create a series from List\n",
    "Price = pd.Series([120,150,100,130,125]);\n",
    "print('The series: \\n', Price)\n",
    "#b\n",
    "print(\"Minimum value of series is \",np.min(Price))\n",
    "print(\"Maximum value of series is \",np.max(Price))\n",
    "print(\"Mean value of series is \",np.mean(Price))\n",
    "print(\"Median value of series is \",np.median(Price))"
   ]
  },
  {
   "cell_type": "markdown",
   "id": "39dd6ecc",
   "metadata": {},
   "source": [
    "**Que. 5 Write the pandas statement for the following, consider the given DataFrame named Stationary:** \n",
    "\n",
    "|Items |Price |Quantity |\n",
    "|--|--|---|\n",
    "|Pen| 20 |15|\n",
    "|Pencil|10|20|\n",
    "|Stapler|30|10|\n",
    "|Notebook|150|15 |\n",
    "\n",
    "    a. Display the total items of the Stationary.\n",
    "    b. Display the total quantity of all the items in the Stationary.\n",
    "    c. Display the average quantity of all the items.\n",
    "\n",
    "\n",
    "    \n",
    "\n",
    "\n"
   ]
  },
  {
   "cell_type": "code",
   "execution_count": 44,
   "id": "54f275be",
   "metadata": {},
   "outputs": [
    {
     "name": "stdout",
     "output_type": "stream",
     "text": [
      "      Items  Price  Quantity\n",
      "0       Pen     20        15\n",
      "1    Pencil     10        20\n",
      "2   Stapler     30        10\n",
      "3  Notebook    150        15\n",
      "\n",
      "Total items of the Stationary 4\n",
      "\n",
      "Total quantity of all the items in the Stationary 60\n",
      "\n",
      "the average  quantity of all the items of the Stationary 15.0\n"
     ]
    }
   ],
   "source": [
    "# Creating Given data frame\n",
    "\n",
    "import pandas as pd\n",
    "\n",
    "Items = pd.Series(['Pen','Pencil','Stapler','Notebook'])\n",
    "Price = pd.Series([20,10,30,150])\n",
    "Quantity=pd.Series([15,20,10,15])\n",
    "\n",
    "Stationary = pd.DataFrame({'Items':Items,'Price':Price,'Quantity':Quantity})\n",
    "print(Stationary)\n",
    "\n",
    "Stationary.describe()\n",
    "#a\n",
    "print('\\nTotal items of the Stationary',Stationary['Items'].count())\n",
    "#b\n",
    "print('\\nTotal quantity of all the items in the Stationary',Stationary['Quantity'].sum())\n",
    "#c\n",
    "print('\\nThe average  quantity of all the items of the Stationary',Stationary['Quantity'].mean())\n"
   ]
  },
  {
   "cell_type": "markdown",
   "id": "06bdc115",
   "metadata": {},
   "source": [
    "    \n",
    "**Que. 6 Write the pandas statement for the above DataFrame Stationary:**  \n",
    "\n",
    "    a. Display the maximum Price value among all the items.\n",
    "    b. Display the sum and mean of the Price value.\n",
    "    c. Add on more column named as Total Price by calculating (Price*Quantity).\n",
    "    \n"
   ]
  },
  {
   "cell_type": "code",
   "execution_count": 51,
   "id": "7cedca4e",
   "metadata": {},
   "outputs": [
    {
     "name": "stdout",
     "output_type": "stream",
     "text": [
      "Maximum of the Price value 150\n",
      "\n",
      "Sum of the Price value 210\n",
      "\n",
      "Mean of the Price value 52.5 \n",
      "\n",
      "      Items  Price  Quantity  Total Price\n",
      "0       Pen     20        15          300\n",
      "1    Pencil     10        20          200\n",
      "2   Stapler     30        10          300\n",
      "3  Notebook    150        15         2250\n"
     ]
    }
   ],
   "source": [
    "Stationary = pd.DataFrame({'Items':Items,'Price':Price,'Quantity':Quantity})\n",
    "\n",
    "#a\n",
    "print('Maximum of the Price value',Stationary['Price'].max())\n",
    "#b\n",
    "print('\\nSum of the Price value',Stationary['Price'].sum())\n",
    "print('\\nMean of the Price value',Stationary['Price'].mean(),'\\n')\n",
    "#c\n",
    "Stationary['Total Price'] = Stationary['Price']*Stationary['Quantity']\n",
    "print(Stationary)"
   ]
  },
  {
   "cell_type": "markdown",
   "id": "0ee253fc",
   "metadata": {},
   "source": [
    "**Que. 7 Consider the following Dataframe Student.**  \n",
    "\n",
    "|Name |Marks |Attempts |Status (P/F)|\n",
    "|--|--|--|--|\n",
    "|Rahul |90 |3|P|\n",
    "|Kavya|50|3|F|\n",
    "|Vaishali|80|1|P|\n",
    "|Akshay|46|2|F|\n",
    "|Akash|75|2|P|\n",
    "\n",
    "Write pandas statement for the following:  \n",
    "\n",
    "    a. Sort the dataFrame in descending order of the Attempts.\n",
    "    b. Update the Marks of the 2nd row (index = 1) as 92 and Attempt as ‘P’.\n",
    "    c. Display the rows where the Attempts are less than 3.\n",
    "    d. Take the mean of the Marks on basis of grouping them by Attempts."
   ]
  },
  {
   "cell_type": "code",
   "execution_count": 73,
   "id": "336c92b8",
   "metadata": {},
   "outputs": [
    {
     "name": "stdout",
     "output_type": "stream",
     "text": [
      "       Name  Marks  Attempts Status (P/F)\n",
      "0     Rahul     90         3            P\n",
      "1     Kavya     50         3            F\n",
      "3    Akshay     46         2            F\n",
      "4     Akash     75         2            P\n",
      "2  Vaishali     80         1            P\n",
      "\n",
      "rows where the Attempts are less than 3\n",
      "        Name  Marks  Attempts Status (P/F)\n",
      "2  Vaishali     80         1            P\n",
      "3    Akshay     46         2            F\n",
      "4     Akash     75         2            P\n",
      "\n",
      "Mean of the Marks on basis of grouping them by Attempts\n",
      "           Marks\n",
      "Attempts       \n",
      "1          80.0\n",
      "2          60.5\n",
      "3          90.0\n",
      "P          92.0\n",
      "       Name  Marks Attempts Status (P/F)\n",
      "0     Rahul     90        3            P\n",
      "1     Kavya     92        P            F\n",
      "2  Vaishali     80        1            P\n",
      "3    Akshay     46        2            F\n",
      "4     Akash     75        2            P\n"
     ]
    },
    {
     "name": "stderr",
     "output_type": "stream",
     "text": [
      "<ipython-input-73-76109dc5842c>:10: SettingWithCopyWarning: \n",
      "A value is trying to be set on a copy of a slice from a DataFrame\n",
      "\n",
      "See the caveats in the documentation: https://pandas.pydata.org/pandas-docs/stable/user_guide/indexing.html#returning-a-view-versus-a-copy\n",
      "  Student['Marks'][1] = 92\n",
      "<ipython-input-73-76109dc5842c>:11: SettingWithCopyWarning: \n",
      "A value is trying to be set on a copy of a slice from a DataFrame\n",
      "\n",
      "See the caveats in the documentation: https://pandas.pydata.org/pandas-docs/stable/user_guide/indexing.html#returning-a-view-versus-a-copy\n",
      "  Student['Attempts'][1]='P'\n",
      "C:\\Users\\nismai01\\Anaconda3\\lib\\site-packages\\pandas\\core\\indexing.py:1637: SettingWithCopyWarning: \n",
      "A value is trying to be set on a copy of a slice from a DataFrame\n",
      "\n",
      "See the caveats in the documentation: https://pandas.pydata.org/pandas-docs/stable/user_guide/indexing.html#returning-a-view-versus-a-copy\n",
      "  self._setitem_single_block(indexer, value, name)\n"
     ]
    }
   ],
   "source": [
    "\n",
    "Student = pd.DataFrame({'Name':['Rahul','Kavya','Vaishali','Akshay','Akash'], 'Marks':[90,50,80,46,75],\n",
    "                        'Attempts':[3,3,1,2,2], 'Status (P/F)':['P','F','P','F','P'] })\n",
    "#a\n",
    "print(Student.sort_values('Attempts',ascending=False))\n",
    "\n",
    "#c\n",
    "print('\\nrows where the Attempts are less than 3\\n', Student.query(\"Attempts < 3\"))\n",
    "\n",
    "#b\n",
    "Student['Marks'][1] = 92\n",
    "Student['Attempts'][1]='P'\n",
    "\n",
    "#d\n",
    "print('\\nMean of the Marks on basis of grouping them by Attempts\\n', Student.groupby(['Attempts']).mean('Marks'))\n",
    "print(Student)"
   ]
  },
  {
   "cell_type": "markdown",
   "id": "68c925e0",
   "metadata": {},
   "source": [
    "**Que. 8 Write the python code for the following:**\n",
    "\n",
    "    a. Plot a bar graph for the Student dataFrame (x-axis: Attempt and Y-axis: Marks).\n",
    "    b. Plot a Pie chart to represent the marks and label the pies as the Name of the Student.\n",
    "    "
   ]
  },
  {
   "cell_type": "code",
   "execution_count": 117,
   "id": "2c8f98da",
   "metadata": {},
   "outputs": [
    {
     "name": "stdout",
     "output_type": "stream",
     "text": [
      "          Marks Attempts Status (P/F)\n",
      "Name                                 \n",
      "Rahul        90        3            P\n",
      "Kavya        92        P            F\n",
      "Vaishali     80        1            P\n",
      "Akshay       46        2            F\n",
      "Akash        75        2            P\n"
     ]
    },
    {
     "data": {
      "text/plain": [
       "<AxesSubplot:ylabel='Marks'>"
      ]
     },
     "execution_count": 117,
     "metadata": {},
     "output_type": "execute_result"
    },
    {
     "data": {
      "image/png": "[encoded data removed]",
      "text/plain": [
       "<Figure size 432x288 with 1 Axes>"
      ]
     },
     "metadata": {
      "needs_background": "light"
     },
     "output_type": "display_data"
    },
    {
     "data": {
      "image/png": "[encoded data removed]",
      "text/plain": [
       "<Figure size 360x360 with 1 Axes>"
      ]
     },
     "metadata": {},
     "output_type": "display_data"
    }
   ],
   "source": [
    "#a\n",
    "Student.plot(x ='Attempts', y = 'Marks', kind=\"bar\", hatch = '.', color='y')\n",
    "#b\n",
    "Student = Student.set_index('Name')\n",
    "print(Student)\n",
    "Student.plot.pie(y='Marks',figsize=(5, 5))"
   ]
  },
  {
   "cell_type": "markdown",
   "id": "72350c09",
   "metadata": {},
   "source": [
    "**Que. 9 A pie chart is to be drawn (using pyplot) to represent Population of States using a matplotlib method to draw the pie chart with labels for the pie slices as the names of the States and the size of each pie slice representing the corresponding Population of the States (in crores), as per the following:**  \n",
    "\n",
    "State Population (Crores)  \n",
    "Uttar Pradesh 20.42  \n",
    "Uttarakhand 1.01  \n",
    "Tamilnadu 6.79    \n",
    "Rajasthan 6.89    \n",
    "Maharashtra 11.42  "
   ]
  },
  {
   "cell_type": "code",
   "execution_count": 104,
   "id": "8637042c",
   "metadata": {},
   "outputs": [
    {
     "data": {
      "text/plain": [
       "<matplotlib.legend.Legend at 0x14b412093d0>"
      ]
     },
     "execution_count": 104,
     "metadata": {},
     "output_type": "execute_result"
    },
    {
     "data": {
      "image/png": "[encoded data removed]",
      "text/plain": [
       "<Figure size 432x288 with 1 Axes>"
      ]
     },
     "metadata": {},
     "output_type": "display_data"
    }
   ],
   "source": [
    "Population = np.array([20.42, 1.01, 6.79,  6.89, 11.42])\n",
    "States = ['Uttar Pradesh','Uttarakhand', 'Tamilnadu', 'Rajasthan', 'Maharashtra']\n",
    "plt.pie(Population, labels = States, startangle = 45, radius = 2.0)\n",
    "plt.title(\"Population Chart\")\n",
    "plt.legend(title = \"States\", loc = 'right')"
   ]
  },
  {
   "cell_type": "markdown",
   "id": "833a2baa",
   "metadata": {},
   "source": [
    " \n",
    "**Que. 10 Generate a random data sample X using numpy.random, and generate the four plots using matplotlib.pyplot.subplot() for the following statement**  \n",
    "\n",
    "    a. Plot vertical Bar graph for X\n",
    "    b. Plot Horizontal Bar graph for X\n",
    "    c. Plot Scatter plot for X\n",
    "    d. Plot Histogram for X."
   ]
  },
  {
   "cell_type": "code",
   "execution_count": 97,
   "id": "de48bbdf",
   "metadata": {},
   "outputs": [
    {
     "name": "stdout",
     "output_type": "stream",
     "text": [
      "[ 10.59753153  75.59876889  22.32684724 -19.12196154  48.07168178\n",
      "  41.35911723  48.62284803 -14.56539141  25.96431226  14.83543012\n",
      "  28.37875043  27.07527952  40.04037417  25.04784006 -43.40756492\n",
      " -13.91560321  46.2358294   66.50867316   0.78270474  55.10719686\n",
      " -18.52480694  -8.09354908  32.94715039  51.94709222  62.3997724\n",
      " -27.42462329  42.02551563  29.55413955  43.56074707   7.47841408\n",
      "  50.98770135  54.45397237  24.12088141  21.39961935 -21.49056943\n",
      "  10.69699014  14.47805964   1.35137699  23.80642242  35.79954421\n",
      " -22.09140324  23.0459707  -21.66681253  -6.11331165 -27.0517225\n",
      "  16.76587008  20.99154515 -18.91734493  -7.93281926  41.20119385\n",
      "  67.2611395  -25.21182041  -8.72552026  14.65280969  28.92861362\n",
      "  15.9555632   48.21688816  -6.18535463  25.57415138  -3.91532882\n",
      "  75.00476202 -18.65655611   3.78742936 -82.61649792  -4.24572159\n",
      "  63.31599291  54.82186537   7.32833106  26.38794003  -3.54336059\n",
      "  15.35457521 -35.85658573  13.54492696 -23.04513752 -21.76330295\n",
      "   6.25590811   5.57927019  21.1508306   46.91279718  -1.99182673\n",
      "  10.61804221   6.68921879  18.85998436 -39.14508403  27.94108325\n",
      " -72.39517235 -41.45083007  11.95868798 -16.32015617  62.40124043\n",
      " -15.31144317   2.997269    12.64167065 -23.05642145  18.99830493\n",
      "  27.48887823  20.46256305  27.87144804  10.631441    64.05281535]\n"
     ]
    },
    {
     "data": {
      "image/png": "[encoded data removed]",
      "text/plain": [
       "<Figure size 720x720 with 4 Axes>"
      ]
     },
     "metadata": {
      "needs_background": "light"
     },
     "output_type": "display_data"
    }
   ],
   "source": [
    "import matplotlib.pyplot as plt\n",
    "\n",
    "X = np.random.normal(10,30,size=100)\n",
    "y = np.random.normal(1,10,100)\n",
    "fig, ax = plt.subplots(nrows=2, ncols=2, figsize=(10, 10))\n",
    "\n",
    "ax[0,0].set(title=\"Vertical Bar Chart\", xlabel=\"x-axis\", ylabel=\"y-axis\")\n",
    "ax[0,0].bar(X,X**2)\n",
    "\n",
    "ax[0,1].set(title=\"Horizontal Bar Chart\", xlabel=\"x-axis\", ylabel=\"y-axis\")\n",
    "ax[0,1].barh(X%2,X, color='g')\n",
    "\n",
    "ax[0,1].set(title=\"Histogram\", xlabel=\"x-axis\", ylabel=\"y-axis\")\n",
    "ax[1,0].hist(X, color = 'y')\n",
    "\n",
    "ax[1,1].set(title=\"Scatter Plot\", xlabel=\"x-axis\", ylabel=\"y-axis\")\n",
    "ax[1,1].scatter(X,y)\n",
    "\n",
    "print(X)"
   ]
  }
 ],
 "metadata": {
  "kernelspec": {
   "display_name": "Python 3",
   "language": "python",
   "name": "python3"
  },
  "language_info": {
   "codemirror_mode": {
    "name": "ipython",
    "version": 3
   },
   "file_extension": ".py",
   "mimetype": "text/x-python",
   "name": "python",
   "nbconvert_exporter": "python",
   "pygments_lexer": "ipython3",
   "version": "3.8.8"
  }
 },
 "nbformat": 4,
 "nbformat_minor": 5
}
