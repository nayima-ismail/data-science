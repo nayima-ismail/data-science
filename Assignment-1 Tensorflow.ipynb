{
 "cells": [
  {
   "attachments": {
    "image.png": {
     "image/png": "[encoded data removed]"
    }
   },
   "cell_type": "markdown",
   "id": "000fba46",
   "metadata": {},
   "source": [
    "![image.png](attachment:image.png)"
   ]
  },
  {
   "cell_type": "code",
   "execution_count": 3,
   "id": "33f25c16",
   "metadata": {},
   "outputs": [
    {
     "name": "stdout",
     "output_type": "stream",
     "text": [
      "tf.Tensor(\n",
      "[[132057 139584 158395 157533]\n",
      " [166003 158093 179479 156836]\n",
      " [197077 212003 236760 211709]], shape=(3, 4), dtype=int32)\n"
     ]
    }
   ],
   "source": [
    "# Matrix multiplication of AXB\n",
    "import tensorflow as tf\n",
    "\n",
    "A = tf.constant([[256, 879, 231,495,367], [959, 333, 757,300, 456], [234, 907, 806,867, 375]])\n",
    "B = tf.constant([[58,23,45,34], [45,45,67,98],[56,67,73,60],[87,87,94,46],[59,97,67,71]])\n",
    "C = tf.matmul(A, B)\n",
    "print(C)"
   ]
  },
  {
   "cell_type": "markdown",
   "id": "4636b705",
   "metadata": {},
   "source": [
    "ii) Two matrices, A,B of dimensions mxn and pxq, respectively can be mutiplied if and only if n=p, where m,n,p,q>=1\n",
    "\n",
    "in our case,\n",
    "        dim(A) ->3x5 \n",
    "        dim(B) ->5x4 \n",
    "        1) AXB -> no.of columns of A (5)= no.of rows in B (5), hence they can be multiplied.\n",
    "        2) BXA -> no of columns of B (4)!= no. of rows in A(3), hence cannot be multiplied\n",
    "        "
   ]
  }
 ],
 "metadata": {
  "kernelspec": {
   "display_name": "Python 3",
   "language": "python",
   "name": "python3"
  },
  "language_info": {
   "codemirror_mode": {
    "name": "ipython",
    "version": 3
   },
   "file_extension": ".py",
   "mimetype": "text/x-python",
   "name": "python",
   "nbconvert_exporter": "python",
   "pygments_lexer": "ipython3",
   "version": "3.8.8"
  }
 },
 "nbformat": 4,
 "nbformat_minor": 5
}
