{
 "cells": [
  {
   "cell_type": "code",
   "execution_count": 11,
   "id": "1e92916b",
   "metadata": {},
   "outputs": [],
   "source": [
    "from sklearn.decomposition import PCA\n",
    "import numpy as np\n",
    "import pandas as pd\n",
    "import matplotlib.pyplot as plt\n",
    "import seaborn as sns\n",
    "sns.set()\n",
    "from sklearn.discriminant_analysis import LinearDiscriminantAnalysis as LDA"
   ]
  },
  {
   "cell_type": "code",
   "execution_count": 30,
   "id": "86298490",
   "metadata": {
    "scrolled": true
   },
   "outputs": [
    {
     "data": {
      "text/plain": [
       "array([[1. , 1.4, 1. ],\n",
       "       [1.5, 1.4, 1.5],\n",
       "       [2. , 1.4, 1.1],\n",
       "       [2.5, 1.6, 1.8],\n",
       "       [2.5, 1.6, 2.1],\n",
       "       [3. , 1.9, 1.5],\n",
       "       [3.5, 1.9, 2. ]])"
      ]
     },
     "execution_count": 30,
     "metadata": {},
     "output_type": "execute_result"
    }
   ],
   "source": [
    "x1 = np.array([1.0,1.5,2.0,2.5,2.5,3.0,3.5])\n",
    "x2 = np.array([1.4,1.4,1.4,1.6,1.6,1.9,1.9])\n",
    "x3 = np.array([1.0,1.5,1.1,1.8,2.1,1.5,2.0])\n",
    "data = np.array([[1.0,1.4,1.0],[1.5,1.4,1.5],[2.0,1.4,1.1],[2.5,1.6,1.8],[2.5,1.6,2.1],[3.0,1.9,1.5],[3.5,1.9,2.0]])\n",
    "data"
   ]
  },
  {
   "cell_type": "code",
   "execution_count": 32,
   "id": "f730b9cc",
   "metadata": {
    "scrolled": false
   },
   "outputs": [
    {
     "name": "stdout",
     "output_type": "stream",
     "text": [
      "components [[-0.91023776 -0.21527018 -0.35373151]\n",
      " [-0.32143283 -0.17121939  0.93132425]]\n",
      "\n",
      "variance [0.88033723 0.07936532]\n",
      "(7, 3)\n",
      "[[ 1.41549201 -0.08467062]\n",
      " [ 0.78350738  0.22027509]\n",
      " [ 0.4698811  -0.31297103]\n",
      " [-0.27590386  0.14399565]\n",
      " [-0.38202332  0.42339292]\n",
      " [-0.68948434 -0.34748386]\n",
      " [-1.32146897 -0.04253815]]\n"
     ]
    },
    {
     "data": {
      "text/plain": [
       "Text(0, 0.5, 'component 2')"
      ]
     },
     "execution_count": 32,
     "metadata": {},
     "output_type": "execute_result"
    },
    {
     "data": {
      "image/png": "[encoded data removed]",
      "text/plain": [
       "<Figure size 432x288 with 1 Axes>"
      ]
     },
     "metadata": {},
     "output_type": "display_data"
    }
   ],
   "source": [
    "pca =PCA(n_components=2)\n",
    "pca.fit(data)\n",
    "print(\"components\", pca.components_)\n",
    "print(\"\\nvariance\", pca.explained_variance_)\n",
    "print(data.shape)\n",
    "\n",
    "transformed= pca.transform(data)\n",
    "print(transformed)\n",
    "\n",
    "plt.scatter(transformed[:, 0], transformed[:, 1])\n",
    "plt.xlabel('component 1')\n",
    "plt.ylabel('component 2')"
   ]
  },
  {
   "cell_type": "code",
   "execution_count": 35,
   "id": "8f4b9908",
   "metadata": {},
   "outputs": [
    {
     "name": "stdout",
     "output_type": "stream",
     "text": [
      "6.4031242374328485\n",
      "4.268489194082608\n",
      "4.28485705712571\n"
     ]
    }
   ],
   "source": [
    "#Euclidean distance\n",
    "print(np.linalg.norm(data[:,0]))\n",
    "print(np.linalg.norm(data[:,1]))\n",
    "print(np.linalg.norm(data[:,2]))"
   ]
  },
  {
   "cell_type": "code",
   "execution_count": 12,
   "id": "347343e0",
   "metadata": {
    "scrolled": true
   },
   "outputs": [
    {
     "data": {
      "text/html": [
       "<div>\n",
       "<style scoped>\n",
       "    .dataframe tbody tr th:only-of-type {\n",
       "        vertical-align: middle;\n",
       "    }\n",
       "\n",
       "    .dataframe tbody tr th {\n",
       "        vertical-align: top;\n",
       "    }\n",
       "\n",
       "    .dataframe thead th {\n",
       "        text-align: right;\n",
       "    }\n",
       "</style>\n",
       "<table border=\"1\" class=\"dataframe\">\n",
       "  <thead>\n",
       "    <tr style=\"text-align: right;\">\n",
       "      <th></th>\n",
       "      <th>Clump Thickness</th>\n",
       "      <th>Uniformity of Cell Size</th>\n",
       "      <th>Uniformity of Cell Shape</th>\n",
       "      <th>Marginal Adhesion</th>\n",
       "      <th>Single Epithelial Cell Size</th>\n",
       "      <th>Bare Nuclei</th>\n",
       "      <th>Bland Chromatin</th>\n",
       "      <th>Normal Nucleoli</th>\n",
       "      <th>Mitoses</th>\n",
       "      <th>Class</th>\n",
       "    </tr>\n",
       "  </thead>\n",
       "  <tbody>\n",
       "    <tr>\n",
       "      <th>0</th>\n",
       "      <td>5</td>\n",
       "      <td>1</td>\n",
       "      <td>1</td>\n",
       "      <td>1</td>\n",
       "      <td>2</td>\n",
       "      <td>1</td>\n",
       "      <td>3</td>\n",
       "      <td>1</td>\n",
       "      <td>1</td>\n",
       "      <td>2</td>\n",
       "    </tr>\n",
       "    <tr>\n",
       "      <th>1</th>\n",
       "      <td>5</td>\n",
       "      <td>4</td>\n",
       "      <td>4</td>\n",
       "      <td>5</td>\n",
       "      <td>7</td>\n",
       "      <td>10</td>\n",
       "      <td>3</td>\n",
       "      <td>2</td>\n",
       "      <td>1</td>\n",
       "      <td>2</td>\n",
       "    </tr>\n",
       "    <tr>\n",
       "      <th>2</th>\n",
       "      <td>3</td>\n",
       "      <td>1</td>\n",
       "      <td>1</td>\n",
       "      <td>1</td>\n",
       "      <td>2</td>\n",
       "      <td>2</td>\n",
       "      <td>3</td>\n",
       "      <td>1</td>\n",
       "      <td>1</td>\n",
       "      <td>2</td>\n",
       "    </tr>\n",
       "    <tr>\n",
       "      <th>3</th>\n",
       "      <td>6</td>\n",
       "      <td>8</td>\n",
       "      <td>8</td>\n",
       "      <td>1</td>\n",
       "      <td>3</td>\n",
       "      <td>4</td>\n",
       "      <td>3</td>\n",
       "      <td>7</td>\n",
       "      <td>1</td>\n",
       "      <td>2</td>\n",
       "    </tr>\n",
       "    <tr>\n",
       "      <th>4</th>\n",
       "      <td>4</td>\n",
       "      <td>1</td>\n",
       "      <td>1</td>\n",
       "      <td>3</td>\n",
       "      <td>2</td>\n",
       "      <td>1</td>\n",
       "      <td>3</td>\n",
       "      <td>1</td>\n",
       "      <td>1</td>\n",
       "      <td>2</td>\n",
       "    </tr>\n",
       "  </tbody>\n",
       "</table>\n",
       "</div>"
      ],
      "text/plain": [
       "   Clump Thickness  Uniformity of Cell Size  Uniformity of Cell Shape  \\\n",
       "0                5                        1                         1   \n",
       "1                5                        4                         4   \n",
       "2                3                        1                         1   \n",
       "3                6                        8                         8   \n",
       "4                4                        1                         1   \n",
       "\n",
       "   Marginal Adhesion  Single Epithelial Cell Size  Bare Nuclei  \\\n",
       "0                  1                            2            1   \n",
       "1                  5                            7           10   \n",
       "2                  1                            2            2   \n",
       "3                  1                            3            4   \n",
       "4                  3                            2            1   \n",
       "\n",
       "   Bland Chromatin  Normal Nucleoli  Mitoses  Class  \n",
       "0                3                1        1      2  \n",
       "1                3                2        1      2  \n",
       "2                3                1        1      2  \n",
       "3                3                7        1      2  \n",
       "4                3                1        1      2  "
      ]
     },
     "execution_count": 12,
     "metadata": {},
     "output_type": "execute_result"
    }
   ],
   "source": [
    "# test classification dataset\n",
    "from sklearn.datasets import make_classification\n",
    "import pandas as pd\n",
    "\n",
    "# reading csv files\n",
    "namesList=['Sample code number','Clump Thickness', 'Uniformity of Cell Size','Uniformity of Cell Shape', \n",
    "       'Marginal Adhesion','Single Epithelial Cell Size','Bare Nuclei','Bland Chromatin','Normal Nucleoli','Mitoses','Class']\n",
    "data =  pd.read_csv('breast-cancer-wisconsin.data', header=None, names=namesList) \n",
    "#remove unnecessary columns and clean data\n",
    "data.drop(['Sample code number'], axis = 1, inplace = True)\n",
    "data['Bare Nuclei'].replace('?','0', inplace=True)\n",
    "data['Bare Nuclei'] = pd.to_numeric(data['Bare Nuclei'])\n",
    "data.head()"
   ]
  },
  {
   "cell_type": "code",
   "execution_count": 13,
   "id": "34e45353",
   "metadata": {
    "scrolled": false
   },
   "outputs": [
    {
     "name": "stderr",
     "output_type": "stream",
     "text": [
      "C:\\Users\\nismai01\\Anaconda3\\lib\\site-packages\\seaborn\\_decorators.py:36: FutureWarning: Pass the following variable as a keyword arg: x. From version 0.12, the only valid positional argument will be `data`, and passing other arguments without an explicit keyword will result in an error or misinterpretation.\n",
      "  warnings.warn(\n"
     ]
    },
    {
     "data": {
      "image/png": "[encoded data removed]",
      "text/plain": [
       "<Figure size 432x288 with 1 Axes>"
      ]
     },
     "metadata": {},
     "output_type": "display_data"
    }
   ],
   "source": [
    "sns.countplot(data['Class'])\n",
    "plt.show()"
   ]
  },
  {
   "cell_type": "code",
   "execution_count": 14,
   "id": "8c50229e",
   "metadata": {
    "scrolled": true
   },
   "outputs": [],
   "source": [
    "# Feature and result separation\n",
    "X = data.loc[:, data.columns != 'Class'].values\n",
    "y = data['Class'].values"
   ]
  },
  {
   "cell_type": "code",
   "execution_count": 15,
   "id": "92be9ea0",
   "metadata": {},
   "outputs": [
    {
     "data": {
      "text/plain": [
       "<matplotlib.collections.PathCollection at 0x22294f12070>"
      ]
     },
     "execution_count": 15,
     "metadata": {},
     "output_type": "execute_result"
    },
    {
     "data": {
      "image/png": "[encoded data removed]",
      "text/plain": [
       "<Figure size 432x288 with 1 Axes>"
      ]
     },
     "metadata": {},
     "output_type": "display_data"
    }
   ],
   "source": [
    "from sklearn.decomposition import PCA\n",
    "pca = PCA(n_components=2) # creates an instance of PCA class\n",
    "results = pca.fit(X) # applies PCA on predictor variables\n",
    "Z = results.transform(X) # create a new array of latent variables\n",
    "plt.scatter(Z[:,0],Z[:,1], c=y)"
   ]
  },
  {
   "cell_type": "code",
   "execution_count": 17,
   "id": "63594b73",
   "metadata": {
    "scrolled": true
   },
   "outputs": [
    {
     "data": {
      "text/plain": [
       "(699, 9)"
      ]
     },
     "execution_count": 17,
     "metadata": {},
     "output_type": "execute_result"
    }
   ],
   "source": [
    "from sklearn.preprocessing import StandardScaler\n",
    "sc = StandardScaler()\n",
    "X_scaled = sc.fit_transform(X)\n",
    "X_scaled.shape"
   ]
  },
  {
   "cell_type": "code",
   "execution_count": 18,
   "id": "95a26128",
   "metadata": {},
   "outputs": [
    {
     "data": {
      "text/plain": [
       "<matplotlib.collections.PathCollection at 0x22294f71ca0>"
      ]
     },
     "execution_count": 18,
     "metadata": {},
     "output_type": "execute_result"
    },
    {
     "data": {
      "image/png": "[encoded data removed]",
      "text/plain": [
       "<Figure size 432x288 with 1 Axes>"
      ]
     },
     "metadata": {},
     "output_type": "display_data"
    }
   ],
   "source": [
    "from sklearn.discriminant_analysis import LinearDiscriminantAnalysis as LDA\n",
    "lda =LDA(n_components=1)\n",
    "X_lda = lda.fit_transform(X_scaled, y)\n",
    "plt.scatter(X_lda,X_lda, c=y)"
   ]
  },
  {
   "cell_type": "code",
   "execution_count": 27,
   "id": "7b960969",
   "metadata": {},
   "outputs": [
    {
     "name": "stdout",
     "output_type": "stream",
     "text": [
      "Gradients of matrix : \n",
      " with respect to x\n",
      " 6*x - 2*y + 6*z \n",
      "with respect to y\n",
      " -2*x + 10*y \n",
      "with respect to z\n",
      " 6*x + 16*z\n",
      "The hessian matrix : \n",
      " [[ 6. -2.  6.]\n",
      " [-2. 10.  0.]\n",
      " [ 6.  0. 16.]]\n"
     ]
    }
   ],
   "source": [
    "import scipy.linalg as la\n",
    "# from sympy import Symbol, Derivative\n",
    "import sympy as sp\n",
    "#𝑓(𝑥,𝑦,𝑧)=3𝑥2−2𝑥1𝑥2+5 𝑥22+6𝑥1𝑥3+8𝑥32\n",
    "x= sp.Symbol('x')\n",
    "y= sp.Symbol('y')\n",
    "z= sp.Symbol('z')\n",
    "f= 3*x**2-2*x*y+5*y**2+6*x*z+8*z**2\n",
    "f_px=sp.diff(f,x)\n",
    "f_py=sp.diff(f,y)\n",
    "f_pz=sp.diff(f,z)\n",
    "f_xx=sp.diff(f_px,x)\n",
    "f_yx=sp.diff(f_py,x)\n",
    "f_zx=sp.diff(f_pz,x)\n",
    "f_xy=sp.diff(f_px,y)\n",
    "f_yy=sp.diff(f_py,y)\n",
    "f_zy=sp.diff(f_pz,y)\n",
    "f_xz=sp.diff(f_px,z)\n",
    "f_yz=sp.diff(f_py,z)\n",
    "f_zz=sp.diff(f_pz,z)\n",
    "\n",
    "hessian = np.array([[f_xx, f_yx,f_zx], [f_xy, f_yy,f_zy],[f_xz,f_yz,f_zz]], dtype=float)\n",
    "\n",
    "print(\"Gradients of matrix : \\n\", \"with respect to x\\n\",f_px,\"\\nwith respect to y\\n\",f_py,\"\\nwith respect to z\\n\",f_pz)\n",
    "print(\"The hessian matrix : \\n\",hessian)"
   ]
  },
  {
   "cell_type": "markdown",
   "id": "21ca613c",
   "metadata": {},
   "source": [
    "A is positive definite all eigen values are positive"
   ]
  },
  {
   "cell_type": "code",
   "execution_count": 26,
   "id": "69ff49cb",
   "metadata": {
    "scrolled": true
   },
   "outputs": [
    {
     "name": "stdout",
     "output_type": "stream",
     "text": [
      "Eigen vectors of the hessian matrix\n",
      " [ 2.73539537 18.89311621 10.37148843] \n",
      "\n",
      " [[-0.88374606 -0.43227348 -0.17925552]\n",
      " [-0.2433019   0.0972153   0.96506651]\n",
      " [ 0.39974628 -0.89648693  0.1910866 ]]\n"
     ]
    }
   ],
   "source": [
    "##Eigen values of hessian matrix\n",
    "v,w = np.linalg.eig(hessian)\n",
    "print(\"Eigen values and vectors of the hessian matrix\\n\", v,\"\\n\\n\", w)"
   ]
  },
  {
   "cell_type": "markdown",
   "id": "2d10b4ad",
   "metadata": {},
   "source": [
    "The eigen values of Hessian at a given point has all positive eigenvalues, it is\n",
    "said to be a positive-definite matrix. This is the multivariable equivalent of “concave up”. And our surface has a local minima at the criticalpoint"
   ]
  }
 ],
 "metadata": {
  "kernelspec": {
   "display_name": "Python 3",
   "language": "python",
   "name": "python3"
  },
  "language_info": {
   "codemirror_mode": {
    "name": "ipython",
    "version": 3
   },
   "file_extension": ".py",
   "mimetype": "text/x-python",
   "name": "python",
   "nbconvert_exporter": "python",
   "pygments_lexer": "ipython3",
   "version": "3.8.8"
  }
 },
 "nbformat": 4,
 "nbformat_minor": 5
}
