{
 "cells": [
  {
   "cell_type": "code",
   "execution_count": 2,
   "id": "ea519c7a",
   "metadata": {},
   "outputs": [],
   "source": [
    "import numpy as np\n",
    "from sklearn.preprocessing import StandardScaler"
   ]
  },
  {
   "cell_type": "code",
   "execution_count": 36,
   "id": "d41a6cab",
   "metadata": {
    "scrolled": true
   },
   "outputs": [
    {
     "data": {
      "text/plain": [
       "(6, 3)"
      ]
     },
     "execution_count": 36,
     "metadata": {},
     "output_type": "execute_result"
    }
   ],
   "source": [
    "# create a 3D numpy array\n",
    "data = np.array([[10,14,10],[13,14,15],[12,14,11],[15,16,8],[18,16,21],[11,16,15]])\n",
    "data.shape"
   ]
  },
  {
   "cell_type": "code",
   "execution_count": 37,
   "id": "f73c6b95",
   "metadata": {
    "scrolled": true
   },
   "outputs": [],
   "source": [
    "#normalize data for 0 mean\n",
    "#Normalizing a dataset can also mean scaling the range of the data to [0, 1]. \n",
    "norm = np.linalg.norm(data)"
   ]
  },
  {
   "cell_type": "code",
   "execution_count": 38,
   "id": "2586019b",
   "metadata": {},
   "outputs": [
    {
     "data": {
      "text/plain": [
       "array([[-1.18518744, -1.        , -0.78086881],\n",
       "       [-0.06237829, -1.        ,  0.3904344 ],\n",
       "       [-0.436648  , -1.        , -0.54660817],\n",
       "       [ 0.68616115,  1.        , -1.2493901 ],\n",
       "       [ 1.8089703 ,  1.        ,  1.79599826],\n",
       "       [-0.81091772,  1.        ,  0.3904344 ]])"
      ]
     },
     "execution_count": 38,
     "metadata": {},
     "output_type": "execute_result"
    }
   ],
   "source": [
    "scaler = StandardScaler()\n",
    "data_normalized = scaler.fit_transform(data)\n",
    "data_normalized"
   ]
  },
  {
   "cell_type": "code",
   "execution_count": 39,
   "id": "1926aed5",
   "metadata": {},
   "outputs": [
    {
     "name": "stdout",
     "output_type": "stream",
     "text": [
      "The covariance matrix : \n",
      " [[ 0.0409644   0.0523554  -0.00823873 -0.20289532  0.00322868  0.11458557]\n",
      " [ 0.0523554   0.50291361  0.18480522 -0.71638894  0.30990293 -0.33358821]\n",
      " [-0.00823873  0.18480522  0.08917014 -0.16397055  0.13634343 -0.23810951]\n",
      " [-0.20289532 -0.71638894 -0.16397055  1.48410154 -0.33654815 -0.06429857]\n",
      " [ 0.00322868  0.30990293  0.13634343 -0.33654815  0.21470241 -0.3276293 ]\n",
      " [ 0.11458557 -0.33358821 -0.23810951 -0.06429857 -0.3276293   0.84904002]]\n"
     ]
    }
   ],
   "source": [
    "covMatrix = np.cov(data_normalized)\n",
    "print(\"The covariance matrix : \\n\",covMatrix)"
   ]
  },
  {
   "cell_type": "code",
   "execution_count": 40,
   "id": "b6e9968f",
   "metadata": {},
   "outputs": [
    {
     "name": "stdout",
     "output_type": "stream",
     "text": [
      "Eigen values are: \n",
      " [ 2.22044605e-16+0.00000000e+00j  1.11585836e+00+0.00000000e+00j\n",
      "  2.06503377e+00+0.00000000e+00j  3.12111422e-17+3.39173166e-17j\n",
      "  3.12111422e-17-3.39173166e-17j -6.19463986e-17+0.00000000e+00j]\n",
      "\n",
      "Right Eigen vectors are: \n",
      " [[-0.98436108+0.j          0.15607164+0.j          0.08170016+0.j\n",
      "   0.06105326+0.11024002j  0.06105326-0.11024002j  0.14006616+0.j        ]\n",
      " [ 0.01386812+0.j         -0.16312436+0.j          0.47870556+0.j\n",
      "  -0.19142826-0.55202277j -0.19142826+0.55202277j -0.65540029+0.j        ]\n",
      " [-0.01817925+0.j         -0.19383737+0.j          0.15125513+0.j\n",
      "  -0.27229406-0.09406681j -0.27229406+0.09406681j  0.38849597+0.j        ]\n",
      " [-0.12844675+0.j         -0.39289614+0.j         -0.79703687+0.j\n",
      "   0.03273956-0.27387087j  0.03273956+0.27387087j -0.11111603+0.j        ]\n",
      " [-0.01604746+0.j         -0.24199497+0.j          0.26893526+0.j\n",
      "   0.63123567+0.j          0.63123567-0.j          0.61933223+0.j        ]\n",
      " [ 0.11727904+0.j          0.8357812 +0.j         -0.18355925+0.j\n",
      "   0.08624631-0.27888899j  0.08624631+0.27888899j  0.06311598+0.j        ]]\n"
     ]
    }
   ],
   "source": [
    "import scipy.linalg as la\n",
    "\n",
    "eigList = la.eig(covMatrix)\n",
    "print(\"Eigen values are: \\n\", eigList[0])\n",
    "print(\"\\nRight Eigen vectors are: \\n\", eigList[1])"
   ]
  },
  {
   "cell_type": "code",
   "execution_count": 41,
   "id": "e97990cf",
   "metadata": {
    "scrolled": true
   },
   "outputs": [
    {
     "data": {
      "text/plain": [
       "array([[-2.23008276e+17,  5.64425921e+16, -6.77839204e+16,\n",
       "         1.45211352e+16,  9.75990737e+16,  7.20250169e+16],\n",
       "       [ 1.29131850e+17, -2.05131325e+16,  4.74623463e+16,\n",
       "         5.57513358e+15, -2.83856824e+16, -2.27078317e+16],\n",
       "       [-2.88230376e+17,  6.07985950e+16, -4.95395959e+16,\n",
       "        -1.90400883e+15,  4.72877961e+16,  6.69972303e+16],\n",
       "       [ 0.00000000e+00,  9.00719925e+15,  0.00000000e+00,\n",
       "         4.51599588e+15,  0.00000000e+00,  3.88093316e+15],\n",
       "       [-0.00000000e+00,  1.80143985e+16, -3.60287970e+16,\n",
       "         1.98340021e+14, -1.80143985e+16, -9.96266340e+15],\n",
       "       [-0.00000000e+00,  9.00719925e+15, -0.00000000e+00,\n",
       "         1.15280523e+14, -1.80143985e+16, -3.40376991e+15]])"
      ]
     },
     "execution_count": 41,
     "metadata": {},
     "output_type": "execute_result"
    }
   ],
   "source": [
    "inverseMatrix = np.linalg.inv(covMatrix)\n",
    "inverseMatrix\n",
    "#Cannot find inverse of a Singular matrix"
   ]
  },
  {
   "cell_type": "code",
   "execution_count": 42,
   "id": "1b8aa896",
   "metadata": {
    "scrolled": true
   },
   "outputs": [
    {
     "data": {
      "text/plain": [
       "((6, 6), (6,), (6, 6))"
      ]
     },
     "execution_count": 42,
     "metadata": {},
     "output_type": "execute_result"
    }
   ],
   "source": [
    "U, s, VT = np.linalg.svd(covMatrix, full_matrices=True)\n",
    "u.shape, s.shape, vh.shape"
   ]
  },
  {
   "cell_type": "code",
   "execution_count": 44,
   "id": "72f5853d",
   "metadata": {},
   "outputs": [
    {
     "name": "stdout",
     "output_type": "stream",
     "text": [
      "Square root of the matrix : \n",
      " [[ 0.03532277+0.00000000e+00j  0.02930891-1.61527516e-10j\n",
      "  -0.0141989 +2.12780335e-10j -0.15835092-4.49124830e-11j\n",
      "  -0.00832217+4.04986397e-11j  0.11624032+8.43550119e-12j]\n",
      " [ 0.02930891+0.00000000e+00j  0.35741547+1.08521834e-09j\n",
      "   0.13745113-7.81282257e-10j -0.48058824+1.98183738e-10j\n",
      "   0.22670283-1.02252354e-09j -0.2702901 -1.72289199e-10j]\n",
      " [-0.0141989 +0.00000000e+00j  0.13745113-1.96183608e-09j\n",
      "   0.07256623+4.49843427e-09j -0.09279273-8.51256238e-10j\n",
      "   0.10800551-1.72386026e-09j -0.21103124-2.38913473e-10j]\n",
      " [-0.15835092+0.00000000e+00j -0.48058824-3.01130754e-11j\n",
      "  -0.09279273-2.69903971e-10j  1.07595885+4.10799695e-11j\n",
      "  -0.20759186+3.65905410e-10j -0.1366351 +5.67825378e-11j]\n",
      " [-0.00832217+0.00000000e+00j  0.22670283-1.27564628e-09j\n",
      "   0.10800551-1.88140599e-09j -0.20759186+2.14294132e-10j\n",
      "   0.16579538+4.44293292e-09j -0.2845897 +7.01842749e-10j]\n",
      " [ 0.11624032+0.00000000e+00j -0.2702901 -5.96535342e-10j\n",
      "  -0.21103124+1.79442312e-10j -0.1366351 -6.89999327e-11j\n",
      "  -0.2845897 +8.51493798e-10j  0.78630582+1.39295531e-10j]]\n"
     ]
    }
   ],
   "source": [
    "from scipy.linalg import sqrtm\n",
    "root =sqrtm(covMatrix) \n",
    "print(\"Square root of the matrix : \\n\",root)"
   ]
  }
 ],
 "metadata": {
  "kernelspec": {
   "display_name": "Python 3",
   "language": "python",
   "name": "python3"
  },
  "language_info": {
   "codemirror_mode": {
    "name": "ipython",
    "version": 3
   },
   "file_extension": ".py",
   "mimetype": "text/x-python",
   "name": "python",
   "nbconvert_exporter": "python",
   "pygments_lexer": "ipython3",
   "version": "3.8.8"
  }
 },
 "nbformat": 4,
 "nbformat_minor": 5
}
